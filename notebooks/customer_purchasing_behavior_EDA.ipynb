{
 "cells": [
  {
   "cell_type": "markdown",
   "metadata": {},
   "source": [
    "# Task 1: Exploration of Customer Purchasing Behavior\n",
    "\n",
    "Exploratory data analysis (EDA) helps us unravel the nature of the data and sometimes informs how we approach modeling. In this task, we will explore customer behavior, focusing on features like promotions, holidays, seasonality, and competitor distance, which affect sales. \n",
    "\n",
    "We will clean the data, handle missing values, detect outliers, and visualize various features to gain insights.\n",
    "\n",
    "---\n",
    "\n",
    "### Step 1: Data Cleaning\n",
    "We start by building a pipeline to handle missing data and detect outliers. This ensures that our analysis is not skewed by inconsistent data."
   ]
  },
  {
   "cell_type": "code",
   "execution_count": 1,
   "metadata": {},
   "outputs": [],
   "source": [
    "import os\n",
    "import sys\n",
    "import pandas as pd\n",
    "import numpy as np\n",
    "import seaborn as sns\n",
    "import matplotlib.pyplot as plt\n",
    "# Get the current working directory\n",
    "current_dir = os.getcwd()\n",
    "\n",
    "# Append the parent directory to sys.path\n",
    "parent_dir = os.path.dirname(current_dir)\n",
    "sys.path.append(parent_dir)\n",
    "\n",
    "# ignore warrnings\n",
    "import warnings\n",
    "warnings.filterwarnings(\"ignore\")"
   ]
  },
  {
   "cell_type": "code",
   "execution_count": 2,
   "metadata": {},
   "outputs": [],
   "source": [
    "# from scripts.Data_preprocessing_pipeline import DataPreprocessingPipeline"
   ]
  },
  {
   "cell_type": "code",
   "execution_count": 3,
   "metadata": {},
   "outputs": [],
   "source": [
    "# Data loading our data is in CSV format\n",
    "train = pd.read_csv('../data/train.csv')\n",
    "test = pd.read_csv('../data/test.csv')\n",
    "store = pd.read_csv('../data/store.csv')"
   ]
  },
  {
   "cell_type": "code",
   "execution_count": 4,
   "metadata": {},
   "outputs": [],
   "source": [
    "from scripts.customer_behavior_EDA import CustomerBehaviorAnalyzer\n",
    "df=pd.DataFrame()\n",
    "cba=CustomerBehaviorAnalyzer(df)"
   ]
  },
  {
   "cell_type": "code",
   "execution_count": 5,
   "metadata": {},
   "outputs": [
    {
     "name": "stderr",
     "output_type": "stream",
     "text": [
      "2025-01-02 22:52:37 - INFO - Merging train and test data with store data\n"
     ]
    }
   ],
   "source": [
    "# Merges the train and test data with the store data on the store column\n",
    "merge_train_df, merge_test_df = cba.merge_data(train, test, store)"
   ]
  }
 ],
 "metadata": {
  "kernelspec": {
   "display_name": "myenv",
   "language": "python",
   "name": "python3"
  },
  "language_info": {
   "codemirror_mode": {
    "name": "ipython",
    "version": 3
   },
   "file_extension": ".py",
   "mimetype": "text/x-python",
   "name": "python",
   "nbconvert_exporter": "python",
   "pygments_lexer": "ipython3",
   "version": "3.12.3"
  }
 },
 "nbformat": 4,
 "nbformat_minor": 2
}
